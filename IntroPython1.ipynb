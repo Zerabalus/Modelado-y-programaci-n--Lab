{
  "nbformat": 4,
  "nbformat_minor": 0,
  "metadata": {
    "colab": {
      "provenance": []
    },
    "kernelspec": {
      "name": "python3",
      "display_name": "Python 3"
    },
    "language_info": {
      "name": "python"
    }
  },
  "cells": [
    {
      "cell_type": "markdown",
      "source": [
        "# Introducción a Python"
      ],
      "metadata": {
        "id": "2Vtp1dYjY1sU"
      }
    },
    {
      "cell_type": "markdown",
      "source": [
        "## 1. Hola, Mundo!\n",
        "El primer programa que todo desarrollador escribe es \"Hola, Mundo!\". En Python, es muy sencillo:"
      ],
      "metadata": {
        "id": "Wd8WijW4Y7dg"
      }
    },
    {
      "cell_type": "code",
      "execution_count": null,
      "metadata": {
        "colab": {
          "base_uri": "https://localhost:8080/"
        },
        "id": "E8m9db2log_X",
        "outputId": "cec0f8a1-6172-4896-acb9-9961538eb308"
      },
      "outputs": [
        {
          "output_type": "stream",
          "name": "stdout",
          "text": [
            "Hola, Mundo!\n"
          ]
        }
      ],
      "source": [
        "print(\"Hola, Mundo!\")"
      ]
    },
    {
      "cell_type": "markdown",
      "source": [
        "La funcion de input nos ayudara a interactuar con el usuario"
      ],
      "metadata": {
        "id": "fdERthVXZBbX"
      }
    },
    {
      "cell_type": "code",
      "source": [
        "input('¿Como te llamas?')"
      ],
      "metadata": {
        "colab": {
          "base_uri": "https://localhost:8080/",
          "height": 52
        },
        "id": "hrMVlUmGZAFb",
        "outputId": "c693b7b8-5ef9-4c95-f7a0-0ce8158ca061"
      },
      "execution_count": null,
      "outputs": [
        {
          "name": "stdout",
          "output_type": "stream",
          "text": [
            "¿Como te llamas?Lalo\n"
          ]
        },
        {
          "output_type": "execute_result",
          "data": {
            "text/plain": [
              "'Lalo'"
            ],
            "application/vnd.google.colaboratory.intrinsic+json": {
              "type": "string"
            }
          },
          "metadata": {},
          "execution_count": 2
        }
      ]
    },
    {
      "cell_type": "markdown",
      "source": [
        "## 2. Variables y Tipos de Datos\n",
        "\n",
        "En Python, las variables son como contenedores que almacenan información. No necesitas declarar el tipo de una variable; Python lo infiere automáticamente. Los tipos de datos más comunes son:\n",
        "\n",
        "- **Enteros (int)**: Números sin decimales (ejemplo: `25`).\n",
        "- **Flotantes (float)**: Números con decimales (ejemplo: `1.70`).\n",
        "- **Cadenas de texto (str)**: Texto entre comillas (ejemplo: `\"Juan\"`).\n",
        "- **Booleanos (bool)**: Valores `True` (verdadero) o `False` (falso).>"
      ],
      "metadata": {
        "id": "WHnIKmJxZLnu"
      }
    },
    {
      "cell_type": "markdown",
      "source": [
        "Type nos ayudara a saber con que tipo de dato estamos trabajando"
      ],
      "metadata": {
        "id": "ZM6CI6LAZuAh"
      }
    },
    {
      "cell_type": "code",
      "source": [
        "type(1.7)"
      ],
      "metadata": {
        "colab": {
          "base_uri": "https://localhost:8080/"
        },
        "id": "-wJZPkqNZHZV",
        "outputId": "9ebc51d1-6464-46ff-a866-3a8a7bdfd3cd"
      },
      "execution_count": null,
      "outputs": [
        {
          "output_type": "execute_result",
          "data": {
            "text/plain": [
              "float"
            ]
          },
          "metadata": {},
          "execution_count": 3
        }
      ]
    },
    {
      "cell_type": "markdown",
      "source": [
        "Las variables nos van a permitir guardar información en ellas."
      ],
      "metadata": {
        "id": "vmWiL7hkZgEt"
      }
    },
    {
      "cell_type": "code",
      "source": [
        "# Entero\n",
        "edad = 21\n",
        "\n",
        "# Flotante\n",
        "altura = 1.70\n",
        "\n",
        "# Cadena de texto\n",
        "nombre = \"Juan\"\n",
        "\n",
        "# Booleano\n",
        "es_estudiante = True\n",
        "\n",
        "print(\"Nombre:\", nombre)\n",
        "print(\"Edad:\", edad)\n",
        "print(\"Altura:\", altura)\n",
        "print(\"Es estudiante:\", es_estudiante)"
      ],
      "metadata": {
        "colab": {
          "base_uri": "https://localhost:8080/"
        },
        "id": "9Sf9GbSuZeIf",
        "outputId": "c0fee74e-7b0b-4095-d5c5-cb9e015c0749"
      },
      "execution_count": null,
      "outputs": [
        {
          "output_type": "stream",
          "name": "stdout",
          "text": [
            "Nombre: Juan\n",
            "Edad: 21\n",
            "Altura: 1.7\n",
            "Es estudiante: True\n"
          ]
        }
      ]
    },
    {
      "cell_type": "markdown",
      "source": [
        "Una vez guardada la información podemos acceder a ella solo invocando a la variable"
      ],
      "metadata": {
        "id": "XHt5rB7FZ14z"
      }
    },
    {
      "cell_type": "code",
      "source": [
        "altura"
      ],
      "metadata": {
        "colab": {
          "base_uri": "https://localhost:8080/"
        },
        "id": "3bNb2fVIZbpw",
        "outputId": "1c55ea7a-80bc-4a01-fc71-da0281c80ad1"
      },
      "execution_count": null,
      "outputs": [
        {
          "output_type": "execute_result",
          "data": {
            "text/plain": [
              "1.7"
            ]
          },
          "metadata": {},
          "execution_count": 5
        }
      ]
    },
    {
      "cell_type": "markdown",
      "source": [
        "## 3. Operaciones Básicas\n",
        "\n",
        "Python soporta operaciones aritméticas básicas como suma (`+`), resta (`-`), multiplicación (`*`) y división (`/`). También puedes usar paréntesis para definir el orden de las operaciones."
      ],
      "metadata": {
        "id": "eZs4C3qJZ8Gl"
      }
    },
    {
      "cell_type": "code",
      "source": [
        "a = 10\n",
        "b = 3\n",
        "\n",
        "suma = a + b\n",
        "resta = a - b\n",
        "multiplicacion = a * b\n",
        "division = a / b\n",
        "exponenciacion = a ** b\n",
        "exponenciacion1 = a ^ b\n",
        "\n",
        "print(\"Suma:\", suma)\n",
        "print(\"Resta:\", resta)\n",
        "print(\"Multiplicación:\", multiplicacion)\n",
        "print(\"División:\", division)\n",
        "print(\"Exponenciación:\", exponenciacion)\n",
        "print(\"Exponenciación:\", exponenciacion1)"
      ],
      "metadata": {
        "colab": {
          "base_uri": "https://localhost:8080/"
        },
        "id": "n0PFkMHnZ01Q",
        "outputId": "229a2dfb-2fbb-4662-c033-58d23cfd4c8f"
      },
      "execution_count": null,
      "outputs": [
        {
          "output_type": "stream",
          "name": "stdout",
          "text": [
            "Suma: 13\n",
            "Resta: 7\n",
            "Multiplicación: 30\n",
            "División: 3.3333333333333335\n",
            "Exponenciación: 1000\n",
            "Exponenciación: 9\n"
          ]
        }
      ]
    },
    {
      "cell_type": "markdown",
      "source": [
        "¿Será posible realizar las mismas operaciones con otro tipo de datos?"
      ],
      "metadata": {
        "id": "pxDSh14IaA3K"
      }
    },
    {
      "cell_type": "code",
      "source": [
        "c = 'Victor '\n",
        "d = 'Vector'\n",
        "\n",
        "## Observa como considera el espacio\n",
        "suma1 = c + d\n",
        "print(suma1)"
      ],
      "metadata": {
        "colab": {
          "base_uri": "https://localhost:8080/"
        },
        "id": "-ExHLxbraFXt",
        "outputId": "41ab5a69-e19c-4a1e-fa12-0c3a1d31a179"
      },
      "execution_count": null,
      "outputs": [
        {
          "output_type": "stream",
          "name": "stdout",
          "text": [
            "Victor Vector\n"
          ]
        }
      ]
    },
    {
      "cell_type": "markdown",
      "source": [
        "## 4. Estructuras de Control\n",
        "\n",
        "Las estructuras de control permiten tomar decisiones y repetir acciones en tu programa.\n",
        "\n",
        "### 4.1 Condicionales\n",
        "\n",
        "Los condicionales (`if`, `else`) permiten ejecutar código basado en una condición. Por ejemplo, puedes verificar si una persona es mayor de edad."
      ],
      "metadata": {
        "id": "6EUkYOiZaOmo"
      }
    },
    {
      "cell_type": "markdown",
      "source": [
        "Observa como podemos agregar varias condiciones y el else solo servira para cualquier otro caso"
      ],
      "metadata": {
        "id": "4MoaO6imaZ8v"
      }
    },
    {
      "cell_type": "code",
      "source": [
        "edad = 18\n",
        "\n",
        "if edad <= 0:\n",
        "  print('Edad no valida')\n",
        "\n",
        "if edad >= 18:\n",
        "    print(\"Eres mayor de edad.\")\n",
        "\n",
        "else:\n",
        "    print(\"Eres menor de edad.\")"
      ],
      "metadata": {
        "colab": {
          "base_uri": "https://localhost:8080/"
        },
        "id": "Cw9auMzAaHLL",
        "outputId": "e16d19e9-2af0-4182-9ee8-b37a60bb306d"
      },
      "execution_count": null,
      "outputs": [
        {
          "output_type": "stream",
          "name": "stdout",
          "text": [
            "Eres mayor de edad.\n"
          ]
        }
      ]
    },
    {
      "cell_type": "markdown",
      "source": [
        "### 4.2 Bucles\n",
        "\n",
        "Los bucles permiten repetir una acción varias veces. En Python, existen dos tipos principales de bucles:\n",
        "\n",
        "- **Bucle `for`**: Repite un bloque de código un número específico de veces.\n",
        "- **Bucle `while`**: Repite un bloque de código mientras se cumpla una condición."
      ],
      "metadata": {
        "id": "yCJ-WwdXaiEY"
      }
    },
    {
      "cell_type": "code",
      "source": [
        "for i in range(6):\n",
        "    print(\"Iteración:\", i)"
      ],
      "metadata": {
        "colab": {
          "base_uri": "https://localhost:8080/"
        },
        "id": "cbhqC84ZaNSM",
        "outputId": "1c7a40f4-815a-4c0e-93c5-5e3636660c85"
      },
      "execution_count": null,
      "outputs": [
        {
          "output_type": "stream",
          "name": "stdout",
          "text": [
            "Iteración: 0\n",
            "Iteración: 1\n",
            "Iteración: 2\n",
            "Iteración: 3\n",
            "Iteración: 4\n",
            "Iteración: 5\n"
          ]
        }
      ]
    },
    {
      "cell_type": "code",
      "source": [
        "contador = 0\n",
        "\n",
        "while contador < 5:\n",
        "    print(\"Contador:\", contador)\n",
        "    contador += 1"
      ],
      "metadata": {
        "colab": {
          "base_uri": "https://localhost:8080/"
        },
        "id": "jPFdcL0tafjN",
        "outputId": "6625c79c-88c6-4978-fe10-b579a959ed18"
      },
      "execution_count": null,
      "outputs": [
        {
          "output_type": "stream",
          "name": "stdout",
          "text": [
            "Contador: 0\n",
            "Contador: 1\n",
            "Contador: 2\n",
            "Contador: 3\n",
            "Contador: 4\n"
          ]
        }
      ]
    },
    {
      "cell_type": "markdown",
      "source": [
        "Nota hay espacios en este tipo de estructuras, esto se comoce como **Identación** y es vital para el funcionamiento de las mismas. No olvides respetar estos niveles de identación"
      ],
      "metadata": {
        "id": "zU7y4jUxamn7"
      }
    },
    {
      "cell_type": "markdown",
      "source": [
        "## 5. Listas\n",
        "\n",
        "Las listas son colecciones ordenadas y modificables de elementos. Puedes almacenar diferentes tipos de datos en una lista, como números, cadenas de texto, etc. Las listas son muy útiles para trabajar con conjuntos de datos. Se caracterizan por estar en corchetes y separar los elementos por comas."
      ],
      "metadata": {
        "id": "bRIxePNea0dC"
      }
    },
    {
      "cell_type": "code",
      "source": [
        "frutas = [\"manzana\", \"banana\", \"cereza\"]\n",
        "\n",
        "# Acceder a un elemento\n",
        "print(frutas[0])  # Salida: manzana\n",
        "\n",
        "# Añadir un elemento\n",
        "frutas.append(\"naranja\")\n",
        "\n",
        "# Eliminar un elemento\n",
        "frutas.remove(\"banana\")\n",
        "\n",
        "print(\"Lista de frutas:\", frutas)"
      ],
      "metadata": {
        "colab": {
          "base_uri": "https://localhost:8080/"
        },
        "id": "OiYfF79KamEQ",
        "outputId": "d08f9a04-7e40-4984-daa2-88556994db62"
      },
      "execution_count": null,
      "outputs": [
        {
          "output_type": "stream",
          "name": "stdout",
          "text": [
            "manzana\n",
            "Lista de frutas: ['manzana', 'cereza', 'naranja']\n"
          ]
        }
      ]
    },
    {
      "cell_type": "markdown",
      "source": [
        "Un comando util es **len()** que nos permitira saber cuantos elementos hay en una lista."
      ],
      "metadata": {
        "id": "U8szGpa0a8n0"
      }
    },
    {
      "cell_type": "code",
      "source": [
        "len(frutas)"
      ],
      "metadata": {
        "colab": {
          "base_uri": "https://localhost:8080/"
        },
        "id": "1U3W97MgbC_L",
        "outputId": "1ebd50d9-0d66-4f18-b700-97fcaaf7a765"
      },
      "execution_count": null,
      "outputs": [
        {
          "output_type": "execute_result",
          "data": {
            "text/plain": [
              "3"
            ]
          },
          "metadata": {},
          "execution_count": 20
        }
      ]
    },
    {
      "cell_type": "markdown",
      "source": [
        "## 5.1 Tuplas"
      ],
      "metadata": {
        "id": "ffdsO2mXbY98"
      }
    },
    {
      "cell_type": "markdown",
      "source": [
        "En Python, una tupla es una colección ordenada de elementos que no se pueden modificar. Las tuplas son similares a las listas, pero a diferencia de estas, no se pueden cambiar después de su creación.\n",
        "Para crear una tupla en Python, se escriben los elementos entre paréntesis y separados por comas."
      ],
      "metadata": {
        "id": "uoAWe8I0bbWF"
      }
    },
    {
      "cell_type": "code",
      "source": [
        "tup = ('t', 'u', 'p', 'l', 'a', 's')"
      ],
      "metadata": {
        "id": "iuwQIGF8bMp0"
      },
      "execution_count": null,
      "outputs": []
    },
    {
      "cell_type": "code",
      "source": [
        "tup"
      ],
      "metadata": {
        "colab": {
          "base_uri": "https://localhost:8080/"
        },
        "id": "y5fywO1xbq58",
        "outputId": "701fc61d-1aa7-4dee-d8ad-d456c3ad5b13"
      },
      "execution_count": null,
      "outputs": [
        {
          "output_type": "execute_result",
          "data": {
            "text/plain": [
              "('t', 'u', 'p', 'l', 'a', 's')"
            ]
          },
          "metadata": {},
          "execution_count": 22
        }
      ]
    },
    {
      "cell_type": "markdown",
      "source": [
        "Para acceder a los elementos de esta, usaremos una syntaxis similar a las listas"
      ],
      "metadata": {
        "id": "7sVGU8KEb7q9"
      }
    },
    {
      "cell_type": "code",
      "source": [
        "print(tup[0])"
      ],
      "metadata": {
        "colab": {
          "base_uri": "https://localhost:8080/"
        },
        "id": "_RUuHC_sbree",
        "outputId": "be165b45-5f55-447c-e628-604b71f1f148"
      },
      "execution_count": null,
      "outputs": [
        {
          "output_type": "stream",
          "name": "stdout",
          "text": [
            "t\n"
          ]
        }
      ]
    }
  ]
}