{
  "nbformat": 4,
  "nbformat_minor": 0,
  "metadata": {
    "colab": {
      "provenance": [],
      "authorship_tag": "ABX9TyMR46KXGGLAKHTXtZE/JsoJ",
      "include_colab_link": true
    },
    "kernelspec": {
      "name": "python3",
      "display_name": "Python 3"
    },
    "language_info": {
      "name": "python"
    }
  },
  "cells": [
    {
      "cell_type": "markdown",
      "metadata": {
        "id": "view-in-github",
        "colab_type": "text"
      },
      "source": [
        "<a href=\"https://colab.research.google.com/github/Zerabalus/Modelado-y-programaci-n--Lab/blob/main/Lab_1.ipynb\" target=\"_parent\"><img src=\"https://colab.research.google.com/assets/colab-badge.svg\" alt=\"Open In Colab\"/></a>"
      ]
    },
    {
      "cell_type": "code",
      "execution_count": null,
      "metadata": {
        "colab": {
          "base_uri": "https://localhost:8080/"
        },
        "id": "q_7vnvpXoSMv",
        "outputId": "3795055c-5d9f-4062-9954-44047a45c28e"
      },
      "outputs": [
        {
          "output_type": "stream",
          "name": "stdout",
          "text": [
            "Hola mundo\n"
          ]
        }
      ],
      "source": [
        "print(\"Hola mundo\")"
      ]
    },
    {
      "cell_type": "code",
      "source": [
        "input('¿Como te llamas?')"
      ],
      "metadata": {
        "colab": {
          "base_uri": "https://localhost:8080/",
          "height": 54
        },
        "id": "aTwQIkZ3ovJl",
        "outputId": "02dfa28f-bff6-469e-f255-68918cd04153"
      },
      "execution_count": null,
      "outputs": [
        {
          "name": "stdout",
          "output_type": "stream",
          "text": [
            "¿Como te llamas? Ephi\n"
          ]
        },
        {
          "output_type": "execute_result",
          "data": {
            "text/plain": [
              "' Ephi'"
            ],
            "application/vnd.google.colaboratory.intrinsic+json": {
              "type": "string"
            }
          },
          "metadata": {},
          "execution_count": 16
        }
      ]
    },
    {
      "cell_type": "markdown",
      "source": [
        "# Variables y tipos de datos"
      ],
      "metadata": {
        "id": "OWomFybipMjc"
      }
    },
    {
      "cell_type": "code",
      "source": [
        "type (10)"
      ],
      "metadata": {
        "colab": {
          "base_uri": "https://localhost:8080/"
        },
        "id": "k5DU7zOBpStE",
        "outputId": "f974634f-fc4a-4e86-a4f0-09497edf228c"
      },
      "execution_count": null,
      "outputs": [
        {
          "output_type": "execute_result",
          "data": {
            "text/plain": [
              "int"
            ]
          },
          "metadata": {},
          "execution_count": 4
        }
      ]
    },
    {
      "cell_type": "code",
      "source": [
        "type ('alumno de Ciencias')"
      ],
      "metadata": {
        "colab": {
          "base_uri": "https://localhost:8080/"
        },
        "id": "3EnQJRC8rDaa",
        "outputId": "847a060b-26b4-4666-b021-6363ff12da5a"
      },
      "execution_count": null,
      "outputs": [
        {
          "output_type": "execute_result",
          "data": {
            "text/plain": [
              "str"
            ]
          },
          "metadata": {},
          "execution_count": 8
        }
      ]
    },
    {
      "cell_type": "code",
      "source": [
        "type(10.1)"
      ],
      "metadata": {
        "colab": {
          "base_uri": "https://localhost:8080/"
        },
        "id": "dYFKQYuSqA57",
        "outputId": "624db05d-4c9a-42cc-a9ab-3b1d6bd82ed8"
      },
      "execution_count": null,
      "outputs": [
        {
          "output_type": "execute_result",
          "data": {
            "text/plain": [
              "float"
            ]
          },
          "metadata": {},
          "execution_count": 5
        }
      ]
    },
    {
      "cell_type": "code",
      "source": [
        "edad = 24"
      ],
      "metadata": {
        "id": "ADceZGQTq1AG"
      },
      "execution_count": null,
      "outputs": []
    },
    {
      "cell_type": "code",
      "source": [
        "edad"
      ],
      "metadata": {
        "colab": {
          "base_uri": "https://localhost:8080/"
        },
        "id": "-8DFKHofq35v",
        "outputId": "46703871-8ced-4c73-b2a3-1dc472ef814d"
      },
      "execution_count": null,
      "outputs": [
        {
          "output_type": "execute_result",
          "data": {
            "text/plain": [
              "24"
            ]
          },
          "metadata": {},
          "execution_count": 7
        }
      ]
    },
    {
      "cell_type": "code",
      "source": [
        "c = \"facultad \"\n",
        "d = 'ciencias'\n",
        "suma = c + d\n",
        "print(suma)"
      ],
      "metadata": {
        "colab": {
          "base_uri": "https://localhost:8080/"
        },
        "id": "XRrUy5g-rmah",
        "outputId": "77e52cd8-134b-4eca-c777-95a7f5fab354"
      },
      "execution_count": null,
      "outputs": [
        {
          "output_type": "stream",
          "name": "stdout",
          "text": [
            "facultad ciencias\n"
          ]
        }
      ]
    },
    {
      "cell_type": "markdown",
      "source": [
        "```\n",
        "a = 10\n",
        "b}=\n",
        "suma = a + b\n",
        "resta = a - b\n",
        "multiplicacion = a * b\n",
        "division = a / b\n",
        "exponenciacion = a ** b\n",
        "exponenciacion1 = a ^ b\n",
        "print(\"Suma:\", suma)\n",
        "print(\"Resta:\", resta)\n",
        "print(\"Multiplicación:\", multiplgcacion)\n",
        "print(\"División:\", division)\n",
        "print(\"Exponenciación:\", exponenciacion)\n",
        "```"
      ],
      "metadata": {
        "id": "yGO-S2Adr0Is"
      }
    },
    {
      "cell_type": "markdown",
      "source": [
        "# Estructuras de Control"
      ],
      "metadata": {
        "id": "yDtm-ZpRsgix"
      }
    },
    {
      "cell_type": "markdown",
      "source": [
        "# *Condicionales*"
      ],
      "metadata": {
        "id": "kd-e0NQUsm0Y"
      }
    },
    {
      "cell_type": "markdown",
      "source": [
        "(if, else) código basado en una condición"
      ],
      "metadata": {
        "id": "6L-YrjLMs5H3"
      }
    },
    {
      "cell_type": "code",
      "source": [
        "edad = 17\n",
        "if edad >= 18:\n",
        "    print(\"Eres mayor de edad\")\n",
        "else:\n",
        "    print(\"Eres menor de edad\")"
      ],
      "metadata": {
        "colab": {
          "base_uri": "https://localhost:8080/"
        },
        "id": "IqW4pUGdslAc",
        "outputId": "6657b98e-e8f3-47e1-8479-7b29e480e17e"
      },
      "execution_count": null,
      "outputs": [
        {
          "output_type": "stream",
          "name": "stdout",
          "text": [
            "Eres menor de edad\n"
          ]
        }
      ]
    },
    {
      "cell_type": "markdown",
      "source": [
        "## Bucles"
      ],
      "metadata": {
        "id": "aiggZXLRtPuP"
      }
    },
    {
      "cell_type": "markdown",
      "source": [
        "Para repetir una acción varias veces\n",
        "```\n",
        "for repite un bloque un número específico de veces\n",
        "while repite mientras se cumpla una condición\n",
        "```\n",
        "\n"
      ],
      "metadata": {
        "id": "KxaO7-cHtT6x"
      }
    },
    {
      "cell_type": "code",
      "source": [
        "for i in range(6):\n",
        "    print(\"iteración\", i)"
      ],
      "metadata": {
        "colab": {
          "base_uri": "https://localhost:8080/"
        },
        "id": "M5HVXyjGtPEX",
        "outputId": "7518675c-a775-4d8f-e9fc-eb031860fe0b"
      },
      "execution_count": null,
      "outputs": [
        {
          "output_type": "stream",
          "name": "stdout",
          "text": [
            "iteración 0\n",
            "iteración 1\n",
            "iteración 2\n",
            "iteración 3\n",
            "iteración 4\n",
            "iteración 5\n"
          ]
        }
      ]
    },
    {
      "cell_type": "code",
      "source": [
        "contador = 0\n",
        "while contador < 5:\n",
        "    print(\"contador:\", contador)\n",
        "    contador += 1"
      ],
      "metadata": {
        "colab": {
          "base_uri": "https://localhost:8080/"
        },
        "id": "N4cFK0v2un64",
        "outputId": "0af0fa22-7638-4c06-89f6-0ec1b7ff6d76"
      },
      "execution_count": null,
      "outputs": [
        {
          "output_type": "stream",
          "name": "stdout",
          "text": [
            "contador: 0\n",
            "contador: 1\n",
            "contador: 2\n",
            "contador: 3\n",
            "contador: 4\n"
          ]
        }
      ]
    },
    {
      "cell_type": "markdown",
      "source": [
        "## Listas"
      ],
      "metadata": {
        "id": "oAc1-zwZvh7v"
      }
    },
    {
      "cell_type": "markdown",
      "source": [
        "colecciones ordenadas y modificables de elementos."
      ],
      "metadata": {
        "id": "BWqzpJEwvmdk"
      }
    },
    {
      "cell_type": "code",
      "source": [
        "frutas = [\"manzana\", \"banana\", \"cereza\"]\n",
        "\n",
        "# Acceder a un elemento\n",
        "print(frutas[0]) # Salida: manzana\n",
        "\n",
        "# Añadir un elemento\n",
        "frutas.append(\"naranja\")\n",
        "\n",
        "# Eliminar un elemento\n",
        "frutas.remove(\"banana\")\n",
        "print(\"Lista de frutas:\", frutas)"
      ],
      "metadata": {
        "colab": {
          "base_uri": "https://localhost:8080/"
        },
        "id": "9XYd2WMXvtTQ",
        "outputId": "19f8188c-ade5-4757-fd87-df98c3eb33e6"
      },
      "execution_count": null,
      "outputs": [
        {
          "output_type": "stream",
          "name": "stdout",
          "text": [
            "manzana\n",
            "Lista de frutas: ['manzana', 'cereza', 'naranja']\n"
          ]
        }
      ]
    }
  ]
}